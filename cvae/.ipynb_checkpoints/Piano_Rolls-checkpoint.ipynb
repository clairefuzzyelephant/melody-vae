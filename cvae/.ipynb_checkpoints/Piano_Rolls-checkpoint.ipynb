{
 "cells": [
  {
   "cell_type": "code",
   "execution_count": 1,
   "metadata": {},
   "outputs": [
    {
     "name": "stderr",
     "output_type": "stream",
     "text": [
      "Using TensorFlow backend.\n"
     ]
    }
   ],
   "source": [
    "import pretty_midi\n",
    "import glob\n",
    "import pickle\n",
    "\n",
    "from keras.layers import Lambda, Input, Dense\n",
    "from keras.models import Model\n",
    "from keras.losses import mse, binary_crossentropy\n",
    "from keras.utils import plot_model\n",
    "from keras import backend as K\n",
    "\n",
    "import numpy as np\n",
    "import matplotlib.pyplot as plt\n",
    "import argparse\n",
    "import os\n",
    "import matplotlib.cm as cm"
   ]
  },
  {
   "cell_type": "code",
   "execution_count": 2,
   "metadata": {},
   "outputs": [],
   "source": [
    "def get_filename(filepath):\n",
    "    base = os.path.basename(filepath)\n",
    "    return os.path.splitext(base)[0]"
   ]
  },
  {
   "cell_type": "code",
   "execution_count": 3,
   "metadata": {},
   "outputs": [],
   "source": [
    "NPITCH = 128\n",
    "# output_t_size = 500 = 5 * 100 bc. 100 is default freq pretty_midi\n",
    "def export_piano_rolls(roll, song_filename, output_t_size=500):\n",
    "    pitch, ntime = roll.shape\n",
    "    if pitch != NPITCH:\n",
    "        print(\"Mismatch number of pitches\")\n",
    "    \n",
    "    # Step half of size to train a connection between two pieces\n",
    "    for st in range(0, ntime, output_t_size//2):\n",
    "        roll_img = roll[:,st:st+output_t_size]\n",
    "        if st + output_t_size > ntime:\n",
    "            break\n",
    "        dirpath = 'trainings/roll_imgs/{}/'.format(song_filename)\n",
    "        if st == 0 and not os.path.exists(dirpath):\n",
    "            os.makedirs(dirpath)\n",
    "        plt.imsave('{}st-{}.png'.format(dirpath, st), roll_img, cmap=cm.gray)"
   ]
  },
  {
   "cell_type": "code",
   "execution_count": 4,
   "metadata": {},
   "outputs": [],
   "source": [
    "def get_piano_rolls():\n",
    "    pr = []\n",
    "    for file in glob.glob(\"../type0/*.midi\"):\n",
    "        pm = pretty_midi.PrettyMIDI(file) #takes a midi file and converts to pretty_midi\n",
    "        instr = pm.instruments #splits into list of instruments\n",
    "        print(\"Processing \", file)\n",
    "        for instrument in instr:\n",
    "            name = pretty_midi.program_to_instrument_name(instrument.program)\n",
    "            if name == \"Acoustic Grand Piano\": #only take the piano track\n",
    "                piano_roll = instrument.get_piano_roll() #get the piano roll, which is a np.ndarray\n",
    "                pr.append(piano_roll)  \n",
    "                roll = (piano_roll[:,:]>0).astype(int)\n",
    "                filename = get_filename(file)\n",
    "                export_piano_rolls(roll, filename, output_t_size=128)\n",
    "    return pr #list of piano rolls (np.ndarray matrices)"
   ]
  },
  {
   "cell_type": "code",
   "execution_count": 5,
   "metadata": {},
   "outputs": [
    {
     "name": "stdout",
     "output_type": "stream",
     "text": [
      "Processing  ../type0/beethoven_opus22_2_format0.midi\n"
     ]
    }
   ],
   "source": [
    "get_piano_rolls()"
   ]
  },
  {
   "cell_type": "code",
   "execution_count": null,
   "metadata": {},
   "outputs": [],
   "source": []
  },
  {
   "cell_type": "code",
   "execution_count": null,
   "metadata": {},
   "outputs": [],
   "source": []
  }
 ],
 "metadata": {
  "kernelspec": {
   "display_name": "Python 3",
   "language": "python",
   "name": "python3"
  },
  "language_info": {
   "codemirror_mode": {
    "name": "ipython",
    "version": 3
   },
   "file_extension": ".py",
   "mimetype": "text/x-python",
   "name": "python",
   "nbconvert_exporter": "python",
   "pygments_lexer": "ipython3",
   "version": "3.6.5"
  }
 },
 "nbformat": 4,
 "nbformat_minor": 2
}
