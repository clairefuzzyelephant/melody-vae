{
 "cells": [
  {
   "cell_type": "code",
   "execution_count": 1,
   "metadata": {},
   "outputs": [],
   "source": [
    "import pretty_midi\n",
    "import glob\n",
    "import pickle\n",
    "\n",
    "# from keras.layers import Lambda, Input, Dense\n",
    "# from keras.models import Model\n",
    "# from keras.losses import mse, binary_crossentropy\n",
    "# from keras.utils import plot_model\n",
    "# from keras import backend as K\n",
    "\n",
    "import numpy as np\n",
    "import matplotlib.pyplot as plt\n",
    "import argparse\n",
    "import os\n",
    "import matplotlib.cm as cm\n",
    "import PIL"
   ]
  },
  {
   "cell_type": "code",
   "execution_count": 2,
   "metadata": {},
   "outputs": [],
   "source": [
    "def get_filename(filepath):\n",
    "    base = os.path.basename(filepath)\n",
    "    return os.path.splitext(base)[0]"
   ]
  },
  {
   "cell_type": "code",
   "execution_count": 3,
   "metadata": {},
   "outputs": [],
   "source": [
    "# ##### RGB\n",
    "# NPITCH = 128\n",
    "# # output_t_size = 500 = 5 * 100 bc. 100 is default freq pretty_midi\n",
    "# def export_piano_rolls(roll, song_filename, output_t_size=500):\n",
    "#     pitch, ntime = roll.shape\n",
    "#     if pitch != NPITCH:\n",
    "#         print(\"Mismatch number of pitches\")\n",
    "    \n",
    "#     # Step half of size to train a connection between two pieces\n",
    "#     for st in range(0, ntime, output_t_size//2):\n",
    "#         roll_img = roll[:,st:st+output_t_size]\n",
    "#         if st + output_t_size > ntime:\n",
    "#             break\n",
    "#         dirpath = 'trainings/rolls_rgb/{}/'.format(song_filename)\n",
    "#         if st == 0 and not os.path.exists(dirpath):\n",
    "#             os.makedirs(dirpath)\n",
    "#         img_path = '{}st-{}.png'.format(dirpath, st)\n",
    "#         roll3D = np.zeros((3, 128, 128))\n",
    "#         roll3D[0][:] = roll_img\n",
    "#         roll3D[1][:] = roll_img\n",
    "#         roll3D[2][:] = roll_img\n",
    "#         roll3D = np.ascontiguousarray(roll3D.transpose(1,2,0))\n",
    "#         result = PIL.Image.fromarray(roll3D.astype(np.uint8), mode='RGB')\n",
    "    \n",
    "#         result.save(img_path)"
   ]
  },
  {
   "cell_type": "code",
   "execution_count": 4,
   "metadata": {},
   "outputs": [],
   "source": [
    "NPITCH = 128\n",
    "# output_t_size = 500 = 5 * 100 bc. 100 is default freq pretty_midi\n",
    "def export_piano_rolls(roll, song_filename, output_t_size=500):\n",
    "    pitch, ntime = roll.shape\n",
    "    if pitch != NPITCH:\n",
    "        print(\"Mismatch number of pitches\")\n",
    "    \n",
    "    # Step half of size to train a connection between two pieces\n",
    "    for st in range(0, ntime, output_t_size//2):\n",
    "        roll_img = roll[:,st:st+output_t_size]\n",
    "        if st + output_t_size > ntime:\n",
    "            break\n",
    "        dirpath = 'trainings/rolls_gray/{}/'.format(song_filename)\n",
    "        if st == 0 and not os.path.exists(dirpath):\n",
    "            os.makedirs(dirpath)\n",
    "        img_path = '{}st-{}.png'.format(dirpath, st)\n",
    "#         print(roll_img[roll_img>0])\n",
    "#       # First version rgb\n",
    "#         plt.imsave(img_path, roll_img, cmap=cm.gray)\n",
    "#       # First version gray\n",
    "        result = PIL.Image.fromarray((roll_img).astype(np.uint8), mode='L')\n",
    "    \n",
    "        result.save(img_path)\n",
    "#       # Load and check image\n",
    "#         img = PIL.Image.open(img_path)\n",
    "#         npimg = np.array(img)\n",
    "#         print(npimg[npimg>0])\n",
    "#         img = img.convert(mode=\"L\")"
   ]
  },
  {
   "cell_type": "code",
   "execution_count": 8,
   "metadata": {},
   "outputs": [],
   "source": [
    "def get_piano_rolls():\n",
    "    pr = []\n",
    "    for file in glob.glob(\"../type0/b*.midi\"):\n",
    "        pm = pretty_midi.PrettyMIDI(file) #takes a midi file and converts to pretty_midi\n",
    "        instr = pm.instruments #splits into list of instruments\n",
    "        print(\"Processing \", file)\n",
    "        for instrument in instr:\n",
    "            name = pretty_midi.program_to_instrument_name(instrument.program)\n",
    "            if name == \"Acoustic Grand Piano\": #only take the piano track\n",
    "                piano_roll = instrument.get_piano_roll() #get the piano roll, which is a np.ndarray\n",
    "                pr.append(piano_roll)  \n",
    "                roll = piano_roll.astype(int)\n",
    "#                 roll = (piano_roll[:,:]>0).astype(int)\n",
    "                filename = get_filename(file)\n",
    "                export_piano_rolls(roll, filename, output_t_size=128)\n",
    "    return pr #list of piano rolls (np.ndarray matrices)"
   ]
  },
  {
   "cell_type": "code",
   "execution_count": 9,
   "metadata": {},
   "outputs": [
    {
     "name": "stdout",
     "output_type": "stream",
     "text": [
      "Processing  ../type0/beethoven_opus22_2_format0.midi\n",
      "Processing  ../type0/burg_spinnerlied_format0.midi\n",
      "Processing  ../type0/beethoven_opus10_1_format0.midi\n",
      "Processing  ../type0/burg_erwachen_format0.midi\n",
      "Processing  ../type0/burg_gewitter_format0.midi\n",
      "Processing  ../type0/beethoven_opus22_4_format0.midi\n",
      "Processing  ../type0/beethoven_opus22_3_format0.midi\n",
      "Processing  ../type0/br_im5_format0.midi\n",
      "Processing  ../type0/beethoven_opus90_1_format0.midi\n",
      "Processing  ../type0/br_im2_format0.midi\n",
      "Processing  ../type0/burg_geschwindigkeit_format0.midi\n",
      "Processing  ../type0/beethoven_hammerklavier_1_format0.midi\n",
      "Processing  ../type0/brahms_opus1_1_format0.midi\n",
      "Processing  ../type0/bach_846_format0.midi\n",
      "Processing  ../type0/bor_ps7_format0.midi\n",
      "Processing  ../type0/brahms_opus117_1_format0.midi\n",
      "Processing  ../type0/burg_quelle_format0.midi\n",
      "Processing  ../type0/bor_ps6_format0.midi\n",
      "Processing  ../type0/bach_847_format0.midi\n",
      "Processing  ../type0/bor_ps1_format0.midi\n",
      "Processing  ../type0/beethoven_les_adieux_2_format0.midi\n",
      "Processing  ../type0/bach_850_format0.midi\n",
      "Processing  ../type0/brahms_opus117_2_format0.midi\n",
      "Processing  ../type0/burg_perlen_format0.midi\n",
      "Processing  ../type0/bor_ps3_format0.midi\n",
      "Processing  ../type0/brahms_opus1_2_format0.midi\n",
      "Processing  ../type0/br_rhap_format0.midi\n",
      "Processing  ../type0/brahms_opus1_4_format0.midi\n",
      "Processing  ../type0/bor_ps2_format0.midi\n",
      "Processing  ../type0/brahms_opus1_3_format0.midi\n",
      "Processing  ../type0/beethoven_les_adieux_3_format0.midi\n",
      "Processing  ../type0/beethoven_opus22_1_format0.midi\n",
      "Processing  ../type0/beethoven_hammerklavier_3_format0.midi\n",
      "Processing  ../type0/beethoven_hammerklavier_4_format0.midi\n",
      "Processing  ../type0/beethoven_opus10_2_format0.midi\n",
      "Processing  ../type0/burg_trennung_format0.midi\n",
      "Processing  ../type0/beethoven_opus10_3_format0.midi\n",
      "Processing  ../type0/burg_sylphen_format0.midi\n",
      "Processing  ../type0/br_im6_format0.midi\n",
      "Processing  ../type0/beethoven_opus90_2_format0.midi\n",
      "Processing  ../type0/beethoven_hammerklavier_2_format0.midi\n"
     ]
    }
   ],
   "source": [
    "rolls = get_piano_rolls()\n",
    "roll = rolls[0]"
   ]
  },
  {
   "cell_type": "code",
   "execution_count": 7,
   "metadata": {},
   "outputs": [],
   "source": [
    "# for i in range(128):\n",
    "#     for j in range(128):\n",
    "#         if roll[i][j] > 0:\n",
    "#             print(i, j, roll[i][j])"
   ]
  },
  {
   "cell_type": "code",
   "execution_count": null,
   "metadata": {},
   "outputs": [],
   "source": []
  },
  {
   "cell_type": "code",
   "execution_count": null,
   "metadata": {},
   "outputs": [],
   "source": []
  },
  {
   "cell_type": "code",
   "execution_count": null,
   "metadata": {},
   "outputs": [],
   "source": []
  }
 ],
 "metadata": {
  "kernelspec": {
   "display_name": "Python 3",
   "language": "python",
   "name": "python3"
  },
  "language_info": {
   "codemirror_mode": {
    "name": "ipython",
    "version": 3
   },
   "file_extension": ".py",
   "mimetype": "text/x-python",
   "name": "python",
   "nbconvert_exporter": "python",
   "pygments_lexer": "ipython3",
   "version": "3.6.5"
  }
 },
 "nbformat": 4,
 "nbformat_minor": 2
}
