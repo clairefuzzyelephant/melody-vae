{
 "cells": [
  {
   "cell_type": "code",
   "execution_count": 45,
   "metadata": {},
   "outputs": [],
   "source": [
    "import pretty_midi\n",
    "import glob\n",
    "import pickle\n",
    "\n",
    "from keras.layers import Lambda, Input, Dense\n",
    "from keras.models import Model\n",
    "from keras.losses import mse, binary_crossentropy\n",
    "from keras.utils import plot_model\n",
    "from keras import backend as K\n",
    "\n",
    "import numpy as np\n",
    "import matplotlib.pyplot as plt\n",
    "import argparse\n",
    "import os\n",
    "import matplotlib.cm as cm"
   ]
  },
  {
   "cell_type": "code",
   "execution_count": 63,
   "metadata": {},
   "outputs": [],
   "source": [
    "def get_filename(filepath):\n",
    "    base = os.path.basename(filepath)\n",
    "    return os.path.splitext(base)[0]"
   ]
  },
  {
   "cell_type": "code",
   "execution_count": 67,
   "metadata": {},
   "outputs": [],
   "source": [
    "NPITCH = 128\n",
    "# output_t_size = 500 = 5 * 100 bc. 100 is default freq pretty_midi\n",
    "def export_piano_rolls(roll, filename, output_t_size=500):\n",
    "    print(\"exporting \", filename)\n",
    "    \n",
    "    pitch, ntime = piano_rolls[0].shape\n",
    "    if pitch != NPITCH:\n",
    "        print(\"Mismatch number of pitches\")\n",
    "\n",
    "    for st in range(0, ntime, output_t_size):\n",
    "        roll_img = roll[:,st:st+output_t_size]\n",
    "        if st + output_t_size > ntime:\n",
    "            break\n",
    "        plt.imsave('rolls_imgs/{}-st-{}.png'.format(filename, st), roll_img, cmap=cm.gray)\n",
    "    print(\"Exported the song {}\".format(filename))"
   ]
  },
  {
   "cell_type": "code",
   "execution_count": 68,
   "metadata": {},
   "outputs": [],
   "source": [
    "def get_piano_rolls():\n",
    "    pr = []\n",
    "    done = False\n",
    "    for file in glob.glob(\"../type0/*.midi\"):\n",
    "        pm = pretty_midi.PrettyMIDI(file) #takes a midi file and converts to pretty_midi\n",
    "        instr = pm.instruments #splits into list of instruments\n",
    "        for instrument in instr:\n",
    "            name = pretty_midi.program_to_instrument_name(instrument.program)\n",
    "            if name == \"Acoustic Grand Piano\": #only take the piano track\n",
    "                piano_roll = instrument.get_piano_roll() #get the piano roll, which is a np.ndarray\n",
    "                pr.append(piano_roll)  \n",
    "                roll = (piano_roll[:,:]>0).astype(int)\n",
    "                filename = get_filename(file)\n",
    "                export_piano_rolls(roll, filename)\n",
    "                if len(pr) == 1:\n",
    "                    done = True\n",
    "                    break\n",
    "        if done:\n",
    "            break\n",
    "    return pr #list of piano rolls (np.ndarray matrices)"
   ]
  },
  {
   "cell_type": "code",
   "execution_count": 69,
   "metadata": {},
   "outputs": [
    {
     "name": "stdout",
     "output_type": "stream",
     "text": [
      "exporting  beethoven_opus22_2_format0\n",
      "Exported the song beethoven_opus22_2_format0\n"
     ]
    },
    {
     "data": {
      "text/plain": [
       "[array([[0., 0., 0., ..., 0., 0., 0.],\n",
       "        [0., 0., 0., ..., 0., 0., 0.],\n",
       "        [0., 0., 0., ..., 0., 0., 0.],\n",
       "        ...,\n",
       "        [0., 0., 0., ..., 0., 0., 0.],\n",
       "        [0., 0., 0., ..., 0., 0., 0.],\n",
       "        [0., 0., 0., ..., 0., 0., 0.]])]"
      ]
     },
     "execution_count": 69,
     "metadata": {},
     "output_type": "execute_result"
    }
   ],
   "source": [
    "get_piano_rolls()"
   ]
  },
  {
   "cell_type": "code",
   "execution_count": null,
   "metadata": {},
   "outputs": [],
   "source": []
  }
 ],
 "metadata": {
  "kernelspec": {
   "display_name": "Python 3",
   "language": "python",
   "name": "python3"
  },
  "language_info": {
   "codemirror_mode": {
    "name": "ipython",
    "version": 3
   },
   "file_extension": ".py",
   "mimetype": "text/x-python",
   "name": "python",
   "nbconvert_exporter": "python",
   "pygments_lexer": "ipython3",
   "version": "3.6.5"
  }
 },
 "nbformat": 4,
 "nbformat_minor": 2
}
